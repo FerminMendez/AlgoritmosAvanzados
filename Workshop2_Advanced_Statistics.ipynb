{
  "nbformat": 4,
  "nbformat_minor": 0,
  "metadata": {
    "colab": {
      "provenance": [],
      "authorship_tag": "ABX9TyPg9UYNBq3jT/D4MKpPmH1q",
      "include_colab_link": true
    },
    "kernelspec": {
      "name": "python3",
      "display_name": "Python 3"
    },
    "language_info": {
      "name": "python"
    }
  },
  "cells": [
    {
      "cell_type": "markdown",
      "metadata": {
        "id": "view-in-github",
        "colab_type": "text"
      },
      "source": [
        "<a href=\"https://colab.research.google.com/github/FerminMendez/AlgoritmosAvanzados/blob/main/Workshop2_Advanced_Statistics.ipynb\" target=\"_parent\"><img src=\"https://colab.research.google.com/assets/colab-badge.svg\" alt=\"Open In Colab\"/></a>"
      ]
    },
    {
      "cell_type": "code",
      "execution_count": 2,
      "metadata": {
        "id": "RPV7ElsICxkW"
      },
      "outputs": [],
      "source": []
    },
    {
      "cell_type": "markdown",
      "source": [
        "2. Central limit theorem\n",
        "\n",
        "2.1 The Uniform Probability Distribution\n",
        "\n",
        "Nota: Teóricamente el valor esperado es la media teórica de las variables aleatorias de acuerdoa su distrubución de probabilidad.\n",
        "\n",
        "Por otra parte la varianza de\n",
        "\n",
        "\n"
      ],
      "metadata": {
        "id": "FiCGPqnJDArF"
      }
    },
    {
      "cell_type": "code",
      "source": [
        "pip install symbulate"
      ],
      "metadata": {
        "colab": {
          "base_uri": "https://localhost:8080/"
        },
        "id": "Y43sw1-7EA3E",
        "outputId": "49e009f7-9990-4e38-a872-de9c794e121f"
      },
      "execution_count": 3,
      "outputs": [
        {
          "output_type": "stream",
          "name": "stdout",
          "text": [
            "Collecting symbulate\n",
            "  Downloading symbulate-0.5.7-py3-none-any.whl (44 kB)\n",
            "\u001b[?25l     \u001b[90m━━━━━━━━━━━━━━━━━━━━━━━━━━━━━━━━━━━━━━━━\u001b[0m \u001b[32m0.0/44.9 kB\u001b[0m \u001b[31m?\u001b[0m eta \u001b[36m-:--:--\u001b[0m\r\u001b[2K     \u001b[90m━━━━━━━━━━━━━━━━━━━━━━━━━━━━━━━━━━━━━━━━\u001b[0m \u001b[32m44.9/44.9 kB\u001b[0m \u001b[31m1.2 MB/s\u001b[0m eta \u001b[36m0:00:00\u001b[0m\n",
            "\u001b[?25hRequirement already satisfied: numpy in /usr/local/lib/python3.10/dist-packages (from symbulate) (1.23.5)\n",
            "Requirement already satisfied: scipy in /usr/local/lib/python3.10/dist-packages (from symbulate) (1.10.1)\n",
            "Requirement already satisfied: matplotlib in /usr/local/lib/python3.10/dist-packages (from symbulate) (3.7.1)\n",
            "Requirement already satisfied: contourpy>=1.0.1 in /usr/local/lib/python3.10/dist-packages (from matplotlib->symbulate) (1.1.0)\n",
            "Requirement already satisfied: cycler>=0.10 in /usr/local/lib/python3.10/dist-packages (from matplotlib->symbulate) (0.11.0)\n",
            "Requirement already satisfied: fonttools>=4.22.0 in /usr/local/lib/python3.10/dist-packages (from matplotlib->symbulate) (4.42.0)\n",
            "Requirement already satisfied: kiwisolver>=1.0.1 in /usr/local/lib/python3.10/dist-packages (from matplotlib->symbulate) (1.4.4)\n",
            "Requirement already satisfied: packaging>=20.0 in /usr/local/lib/python3.10/dist-packages (from matplotlib->symbulate) (23.1)\n",
            "Requirement already satisfied: pillow>=6.2.0 in /usr/local/lib/python3.10/dist-packages (from matplotlib->symbulate) (9.4.0)\n",
            "Requirement already satisfied: pyparsing>=2.3.1 in /usr/local/lib/python3.10/dist-packages (from matplotlib->symbulate) (3.1.1)\n",
            "Requirement already satisfied: python-dateutil>=2.7 in /usr/local/lib/python3.10/dist-packages (from matplotlib->symbulate) (2.8.2)\n",
            "Requirement already satisfied: six>=1.5 in /usr/local/lib/python3.10/dist-packages (from python-dateutil>=2.7->matplotlib->symbulate) (1.16.0)\n",
            "Installing collected packages: symbulate\n",
            "Successfully installed symbulate-0.5.7\n"
          ]
        }
      ]
    },
    {
      "cell_type": "markdown",
      "source": [
        "2.2 Monte Carlo simulation\n"
      ],
      "metadata": {
        "id": "SH-9hxSOEePi"
      }
    },
    {
      "cell_type": "code",
      "source": [
        "from symbulate import *\n",
        "#'exec(%matplotlib inline)'\n",
        "import matplotlib\n",
        "\n",
        "import matplotlib.pyplot as plt"
      ],
      "metadata": {
        "id": "GJweKbdVEhFD"
      },
      "execution_count": 4,
      "outputs": []
    },
    {
      "cell_type": "markdown",
      "source": [
        "Simulación de números aleatorios con una distribución normal"
      ],
      "metadata": {
        "id": "sDAE08bqE9Jg"
      }
    },
    {
      "cell_type": "code",
      "source": [
        "# clear the plot space:\n",
        "plt.clf()\n",
        "# Define the probability type of function as uniform (probability space)\n",
        "P = Uniform(0,40)\n",
        "# Define X as a random variable of the type P (uniform)\n",
        "X =RV(P)\n",
        "# Simulate the values of X and save the in the x array:\n",
        "x=X.sim(10000)\n",
        "x.plot()\n",
        "plt.show()"
      ],
      "metadata": {
        "colab": {
          "base_uri": "https://localhost:8080/",
          "height": 430
        },
        "id": "ooOoFNHmFBGT",
        "outputId": "959b08a3-a4b1-4444-bd92-f5f680f023f2"
      },
      "execution_count": 5,
      "outputs": [
        {
          "output_type": "display_data",
          "data": {
            "text/plain": [
              "<Figure size 640x480 with 1 Axes>"
            ],
            "image/png": "[encoded data removed]"
          },
          "metadata": {}
        }
      ]
    },
    {
      "cell_type": "markdown",
      "source": [
        "2.2 Reto\n",
        "Calcular la media y desviación estándar y compararla con las teóricas"
      ],
      "metadata": {
        "id": "3nsWnCxvGWTL"
      }
    },
    {
      "cell_type": "code",
      "source": [
        "import pandas as pd\n",
        "\n",
        "array = np.array(x)\n",
        "df = pd.DataFrame(x)\n",
        "\n",
        "x_stats=df.describe().T\n",
        "print(type(x_stats))\n",
        "print(x_stats)\n",
        "\n",
        "theoric_mean=(40-0)/2\n",
        "theoric_var=(40-0)**2/12\n",
        "theoric_std=(theoric_var)**(1/2)\n",
        "\n",
        "\n",
        "print(\"Media real: %2f vs media teórica: %2f\"%(x_stats[\"mean\"],theoric_mean))\n",
        "print(\"Desviación estándar real: %2f vs desviación estándar teórica: %2f\"%(x_stats[\"std\"],theoric_std))\n",
        "\n",
        "\n"
      ],
      "metadata": {
        "colab": {
          "base_uri": "https://localhost:8080/"
        },
        "id": "3iVZOx9LGV_Z",
        "outputId": "e6adc382-12fb-4db1-cb08-f425dfb9f099"
      },
      "execution_count": 6,
      "outputs": [
        {
          "output_type": "stream",
          "name": "stdout",
          "text": [
            "<class 'pandas.core.frame.DataFrame'>\n",
            "     count       mean        std       min        25%        50%        75%  \\\n",
            "0  10000.0  19.989133  11.522861  0.001864  10.061137  20.001371  29.970094   \n",
            "\n",
            "         max  \n",
            "0  39.998616  \n",
            "Media real: 19.989133 vs media teórica: 20.000000\n",
            "Desviación estándar real: 11.522861 vs desviación estándar teórica: 11.547005\n"
          ]
        }
      ]
    },
    {
      "cell_type": "markdown",
      "source": [],
      "metadata": {
        "id": "_bWlbgeWFGxa"
      }
    },
    {
      "cell_type": "code",
      "source": [
        "# Define the probability space as a vector of 25 uniform random numbers:\n",
        "P = Uniform(0,40) ** 25\n",
        "# Define XVECTOR as a vector of random variables with 25 random values\n",
        "XVECTOR =RV(P)\n",
        "# Simulate 10,000 vectors to get a matrix\n",
        "xmatrix=XVECTOR.sim(10000)"
      ],
      "metadata": {
        "id": "ZXVARNFcFQQA"
      },
      "execution_count": 7,
      "outputs": []
    },
    {
      "cell_type": "code",
      "source": [
        "xmatrix\n"
      ],
      "metadata": {
        "colab": {
          "base_uri": "https://localhost:8080/",
          "height": 263
        },
        "id": "BcgVAWZzFTn5",
        "outputId": "9460c8ee-a6c0-45e1-e846-886282a1bd87"
      },
      "execution_count": 8,
      "outputs": [
        {
          "output_type": "execute_result",
          "data": {
            "text/plain": [
              "Index Result\n",
              "0     (38.928128956459496, 8.399375501753985, 23.70697543144011, 25.718047843418965, 14.801655025433028, ..., 24.021418255460123)\n",
              "1     (20.80207171173043, 19.94015593224457, 34.458454621517646, 11.57517793005625, 13.249351862681976, ..., 13.309285386476342)\n",
              "2     (37.458623729419436, 18.51875729432591, 3.5850778589753407, 7.604461080965033, 36.28663625663131, ..., 13.702699752162872)\n",
              "3     (5.751470799030556, 5.009325291008717, 17.797576733508503, 12.718485304502, 21.866331411447064, ..., 38.94935721345449)\n",
              "4     (23.876490439907183, 34.032133423735, 16.581648739987912, 17.485076254131492, 36.57066937604578, ..., 16.539270836486097)\n",
              "5     (19.871112151295417, 21.939069030089332, 31.05741243071128, 25.542678332715955, 6.706501891605212, ..., 4.889987964931377)\n",
              "6     (13.681928918281493, 34.05151255250129, 18.43177683584316, 14.241975852050533, 9.589161911776852, ..., 21.84673117818182)\n",
              "7     (9.989753068361686, 32.78422782681097, 37.93313162483056, 28.116230650046624, 28.589614197502947, ..., 8.113762792295294)\n",
              "8     (11.036943747321448, 31.390787570361475, 38.42865091950097, 4.444691406306953, 11.728714111819167, ..., 1.3682077430396866)\n",
              "....  .........................................................................................................................\n",
              "9999  (24.38902369248293, 29.891086134100608, 4.812695506519824, 22.6201990948029, 14.827009512259362, ..., 16.591555937518685)"
            ],
            "text/html": [
              "\n",
              "    <table>\n",
              "      <thead>\n",
              "        <th width=\"10%\">Index</th>\n",
              "        <th width=\"90%\">Result</th>\n",
              "      </thead>\n",
              "      <tbody>\n",
              "        \n",
              "        <tr>\n",
              "          <td>0</td><td>(38.928128956459496, 8.399375501753985, 23.70697543144011, 25.718047843418965, 14.801655025433028, ....</td>\n",
              "        </tr>\n",
              "        \n",
              "        <tr>\n",
              "          <td>1</td><td>(20.80207171173043, 19.94015593224457, 34.458454621517646, 11.57517793005625, 13.249351862681976, .....</td>\n",
              "        </tr>\n",
              "        \n",
              "        <tr>\n",
              "          <td>2</td><td>(37.458623729419436, 18.51875729432591, 3.5850778589753407, 7.604461080965033, 36.28663625663131, .....</td>\n",
              "        </tr>\n",
              "        \n",
              "        <tr>\n",
              "          <td>3</td><td>(5.751470799030556, 5.009325291008717, 17.797576733508503, 12.718485304502, 21.866331411447064, ...,...</td>\n",
              "        </tr>\n",
              "        \n",
              "        <tr>\n",
              "          <td>4</td><td>(23.876490439907183, 34.032133423735, 16.581648739987912, 17.485076254131492, 36.57066937604578, ......</td>\n",
              "        </tr>\n",
              "        \n",
              "        <tr>\n",
              "          <td>5</td><td>(19.871112151295417, 21.939069030089332, 31.05741243071128, 25.542678332715955, 6.706501891605212, ....</td>\n",
              "        </tr>\n",
              "        \n",
              "        <tr>\n",
              "          <td>6</td><td>(13.681928918281493, 34.05151255250129, 18.43177683584316, 14.241975852050533, 9.589161911776852, .....</td>\n",
              "        </tr>\n",
              "        \n",
              "        <tr>\n",
              "          <td>7</td><td>(9.989753068361686, 32.78422782681097, 37.93313162483056, 28.116230650046624, 28.589614197502947, .....</td>\n",
              "        </tr>\n",
              "        \n",
              "        <tr>\n",
              "          <td>8</td><td>(11.036943747321448, 31.390787570361475, 38.42865091950097, 4.444691406306953, 11.728714111819167, ....</td>\n",
              "        </tr>\n",
              "        <tr><td>...</td><td>...</td></tr>\n",
              "        <tr>\n",
              "          <td>9999</td><td>(24.38902369248293, 29.891086134100608, 4.812695506519824, 22.6201990948029, 14.827009512259362, ......</td>\n",
              "        </tr>\n",
              "        \n",
              "      </tbody>\n",
              "    </table>\n",
              "        "
            ]
          },
          "metadata": {},
          "execution_count": 8
        }
      ]
    },
    {
      "cell_type": "code",
      "source": [
        "# The 2nd parameter is the mathematical operation applied to each row of the random vector\n",
        "# Simulate 10,000 means of each random vector of 25 uniform distributed numbers:\n",
        "xmean = RV(P,mean).sim(10000)\n",
        "xmean"
      ],
      "metadata": {
        "colab": {
          "base_uri": "https://localhost:8080/",
          "height": 263
        },
        "id": "cPLQX1APFXKR",
        "outputId": "f2e9f49c-4d2e-4bfe-9a7f-db20bfed7396"
      },
      "execution_count": 9,
      "outputs": [
        {
          "output_type": "execute_result",
          "data": {
            "text/plain": [
              "Index Result\n",
              "0     22.30855940149276\n",
              "1     22.221805329374803\n",
              "2     23.48260964135907\n",
              "3     18.134478244218393\n",
              "4     18.63696670315989\n",
              "5     19.180456660770073\n",
              "6     23.123194502275936\n",
              "7     19.389733223106504\n",
              "8     20.314645789306223\n",
              "....  ..................\n",
              "9999  24.958724609938944"
            ],
            "text/html": [
              "\n",
              "    <table>\n",
              "      <thead>\n",
              "        <th width=\"10%\">Index</th>\n",
              "        <th width=\"90%\">Result</th>\n",
              "      </thead>\n",
              "      <tbody>\n",
              "        \n",
              "        <tr>\n",
              "          <td>0</td><td>22.30855940149276</td>\n",
              "        </tr>\n",
              "        \n",
              "        <tr>\n",
              "          <td>1</td><td>22.221805329374803</td>\n",
              "        </tr>\n",
              "        \n",
              "        <tr>\n",
              "          <td>2</td><td>23.48260964135907</td>\n",
              "        </tr>\n",
              "        \n",
              "        <tr>\n",
              "          <td>3</td><td>18.134478244218393</td>\n",
              "        </tr>\n",
              "        \n",
              "        <tr>\n",
              "          <td>4</td><td>18.63696670315989</td>\n",
              "        </tr>\n",
              "        \n",
              "        <tr>\n",
              "          <td>5</td><td>19.180456660770073</td>\n",
              "        </tr>\n",
              "        \n",
              "        <tr>\n",
              "          <td>6</td><td>23.123194502275936</td>\n",
              "        </tr>\n",
              "        \n",
              "        <tr>\n",
              "          <td>7</td><td>19.389733223106504</td>\n",
              "        </tr>\n",
              "        \n",
              "        <tr>\n",
              "          <td>8</td><td>20.314645789306223</td>\n",
              "        </tr>\n",
              "        <tr><td>...</td><td>...</td></tr>\n",
              "        <tr>\n",
              "          <td>9999</td><td>24.958724609938944</td>\n",
              "        </tr>\n",
              "        \n",
              "      </tbody>\n",
              "    </table>\n",
              "        "
            ]
          },
          "metadata": {},
          "execution_count": 9
        }
      ]
    },
    {
      "cell_type": "code",
      "source": [
        "plt.clf()\n",
        "xmean.plot()\n",
        "x.plot()\n",
        "plt.show()\n"
      ],
      "metadata": {
        "colab": {
          "base_uri": "https://localhost:8080/",
          "height": 430
        },
        "id": "dotII3XjFaC4",
        "outputId": "41d1bd04-dc61-47e5-9dab-d14d8dc4bede"
      },
      "execution_count": 10,
      "outputs": [
        {
          "output_type": "display_data",
          "data": {
            "text/plain": [
              "<Figure size 640x480 with 1 Axes>"
            ],
            "image/png": "[encoded data removed]"
          },
          "metadata": {}
        }
      ]
    },
    {
      "cell_type": "markdown",
      "source": [
        "2.3 Calcular la media y desviación estándar de x_mean y con las de x"
      ],
      "metadata": {
        "id": "HGS2PMMxMeWR"
      }
    },
    {
      "cell_type": "code",
      "source": [
        "array = np.array(xmean)\n",
        "df_x_mean = pd.DataFrame(xmean)\n",
        "\n",
        "xmean_stats=df_x_mean.describe().T\n",
        "print(type(xmean_stats))\n",
        "print(xmean_stats)\n",
        "\n",
        "\n",
        "print(\"Media xmean: %2f vs media de x: %2f\"%(xmean_stats[\"mean\"],x_stats[\"mean\"]))\n",
        "print(\"Desviación estándar xmean: %2f vs desviación estándar de x: %2f\"%(xmean_stats[\"std\"],x_stats[\"std\"]))"
      ],
      "metadata": {
        "colab": {
          "base_uri": "https://localhost:8080/"
        },
        "id": "AZFoNMvLMhKk",
        "outputId": "11277799-e8b8-4b37-f771-adebe7cef832"
      },
      "execution_count": 11,
      "outputs": [
        {
          "output_type": "stream",
          "name": "stdout",
          "text": [
            "<class 'pandas.core.frame.DataFrame'>\n",
            "     count       mean       std       min        25%        50%        75%  \\\n",
            "0  10000.0  20.038959  2.293098  11.58518  18.468555  20.032969  21.631467   \n",
            "\n",
            "         max  \n",
            "0  28.023418  \n",
            "Media xmean: 20.038959 vs media de x: 19.989133\n",
            "Desviación estándar xmean: 2.293098 vs desviación estándar de x: 11.522861\n"
          ]
        }
      ]
    },
    {
      "cell_type": "markdown",
      "source": [
        "A pesar de que el promedio se mantiene. La desviación estándar se reduce dado el comportamiento normal de los datos. En específico tenemos 2.3 de desviación esperada donde teóricamente con una desviación estándar de 2 tendrémos 95% de los datos\n"
      ],
      "metadata": {
        "id": "cIUlDzXlOWVm"
      }
    },
    {
      "cell_type": "markdown",
      "source": [
        "Simulating numbers with the NORMAL probability distribution\n",
        "\n",
        "2.2.4 Simulando numeros con la distribución de probabilidad normal\n"
      ],
      "metadata": {
        "id": "ddgvfVK4lp5g"
      }
    },
    {
      "cell_type": "code",
      "source": [
        "# clear the plot space:\n",
        "plt.clf()\n",
        "# Define the probability type of function as uniform (probability space)\n",
        "P = Normal(mean=20, sd=10)\n",
        "# Define Y as a random variable of the type P (normal)\n",
        "Y =RV(P)\n",
        "# Simulate 10,000 values of Y and save the in the x array:\n",
        "y=Y.sim(10000)\n",
        "y.plot()\n",
        "plt.show()"
      ],
      "metadata": {
        "colab": {
          "base_uri": "https://localhost:8080/",
          "height": 430
        },
        "id": "R8Old5gekuee",
        "outputId": "343a5efa-dd70-412d-bf50-70f11b5aa2b3"
      },
      "execution_count": 12,
      "outputs": [
        {
          "output_type": "display_data",
          "data": {
            "text/plain": [
              "<Figure size 640x480 with 1 Axes>"
            ],
            "image/png": "[encoded data removed]"
          },
          "metadata": {}
        }
      ]
    },
    {
      "cell_type": "markdown",
      "source": [
        "2.2.5\n",
        "\n",
        "Calcular la media y desviación estándar the los datos aleatorios.\n",
        "\n",
        "CALCULATE THE MEAN AND STANDARD DEVIATION OF THIS RANDOM y VARIABLE. HOW SIMILAR OR DIFFERENT ARE THESE VALUES FROM THE MEAN AND STANDARD DEVIATION OF THE THEORETICAL MEAN (20) AND THE THEORETICAL STANDARD DEVIATION (10)?\n",
        "\n"
      ],
      "metadata": {
        "id": "ewN1oVIBl-KJ"
      }
    }
  ]
}