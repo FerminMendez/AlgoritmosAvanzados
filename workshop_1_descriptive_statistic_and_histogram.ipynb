{
  "nbformat": 4,
  "nbformat_minor": 0,
  "metadata": {
    "colab": {
      "provenance": [],
      "authorship_tag": "ABX9TyO6CLFj3c0DvREWst0e7p5k",
      "include_colab_link": true
    },
    "kernelspec": {
      "name": "python3",
      "display_name": "Python 3"
    },
    "language_info": {
      "name": "python"
    }
  },
  "cells": [
    {
      "cell_type": "markdown",
      "metadata": {
        "id": "view-in-github",
        "colab_type": "text"
      },
      "source": [
        "<a href=\"https://colab.research.google.com/github/FerminMendez/AlgoritmosAvanzados/blob/main/workshop_1_descriptive_statistic_and_histogram.ipynb\" target=\"_parent\"><img src=\"https://colab.research.google.com/assets/colab-badge.svg\" alt=\"Open In Colab\"/></a>"
      ]
    },
    {
      "cell_type": "markdown",
      "source": [
        "Cuando obtenemos un data set de datos las medidadas de tendencias central media, moda y mediana nos sirven para obtener una idea de con que datos estamos tratando. Con estas medidas a primera vista podemos responde preguntas como ¿Cuál es la magnitud de los datos que tenemos? ¿Cuál es la distribución de los datos? ¿Qué valores se repiten más?\n",
        "\n",
        "*  Media\n",
        "*  Mediana\n",
        "*  Moda\n",
        "\n"
      ],
      "metadata": {
        "id": "ltr8sfqZQGPH"
      }
    },
    {
      "cell_type": "code",
      "source": [],
      "metadata": {
        "id": "WG8AZ0yFdmEj"
      },
      "execution_count": null,
      "outputs": []
    },
    {
      "cell_type": "markdown",
      "source": [
        "Por otra parte las medidas de dispersión nos ayudan a entender cómo se distrubuyen los datos y entender si tenemos valores muy parecidos o existen valores extremos en nuestros datos.\n",
        "\n",
        "*   Varianza\n",
        "*   Desviación estándar\n",
        "*   Percentiles /quartiles\n"
      ],
      "metadata": {
        "id": "rBDDC1QHQGZX"
      }
    },
    {
      "cell_type": "markdown",
      "source": [
        "IQR Inter Quartiles\n",
        "IQR1= -1.5 Q1+ Q2\n",
        "IQR2= 1.5 Q3 +Q2"
      ],
      "metadata": {
        "id": "etVm79l_VWX5"
      }
    },
    {
      "cell_type": "markdown",
      "source": [
        "Para obtener un rango de datos no extremo podemos encontrar un limmite inferior y superior a partir de los quartiles:\n",
        "Lim_inf= q2-1.5 q1\n",
        "Lim _sup= q2 +1.5 q3\n",
        "Con estos rangos los modelos predictuivos en ML funcionan mejor y es una medida para limpiar los datos.\n",
        "Una técnica es que los valores que superen lo limites toman los valores de los limites para no perder datos.\n",
        "\n"
      ],
      "metadata": {
        "id": "CTBukqeWWuPv"
      }
    },
    {
      "cell_type": "code",
      "source": [
        "import numpy as np\n",
        "import pandas as pd\n",
        "import yfinance as yf\n"
      ],
      "metadata": {
        "id": "tzfq3KX_dn3T"
      },
      "execution_count": 1,
      "outputs": []
    },
    {
      "cell_type": "code",
      "source": [
        "BTC=yf.download(tickers=\"BTC-USD\", start=\"2017-01-01\",interval=\"1mo\")\n",
        "BTC"
      ],
      "metadata": {
        "id": "sW71vfA0dw16",
        "outputId": "2aa6c8cd-ca58-4567-9537-972cd1889038",
        "colab": {
          "base_uri": "https://localhost:8080/",
          "height": 472
        }
      },
      "execution_count": 2,
      "outputs": [
        {
          "output_type": "stream",
          "name": "stdout",
          "text": [
            "\r[*********************100%***********************]  1 of 1 completed\n"
          ]
        },
        {
          "output_type": "execute_result",
          "data": {
            "text/plain": [
              "                    Open          High           Low         Close  \\\n",
              "Date                                                                 \n",
              "2017-01-01    963.658020   1191.099976    755.755981    970.403015   \n",
              "2017-02-01    970.940979   1200.390015    946.690979   1179.969971   \n",
              "2017-03-01   1180.040039   1280.310059    903.713013   1071.790039   \n",
              "2017-04-01   1071.709961   1347.910034   1061.089966   1347.890015   \n",
              "2017-05-01   1348.300049   2763.709961   1348.300049   2286.409912   \n",
              "...                  ...           ...           ...           ...   \n",
              "2023-04-01  28473.332031  31005.607422  27070.849609  29268.806641   \n",
              "2023-05-01  29227.103516  29820.126953  25878.429688  27219.658203   \n",
              "2023-06-01  27218.412109  31389.539062  24797.167969  30477.251953   \n",
              "2023-07-01  30471.847656  31814.515625  28934.294922  29230.111328   \n",
              "2023-08-01  29230.873047  30176.796875  28657.023438  29488.714844   \n",
              "\n",
              "               Adj Close        Volume  \n",
              "Date                                    \n",
              "2017-01-01    970.403015    5143971692  \n",
              "2017-02-01   1179.969971    4282761200  \n",
              "2017-03-01   1071.790039   10872455960  \n",
              "2017-04-01   1347.890015    9757448112  \n",
              "2017-05-01   2286.409912   34261856864  \n",
              "...                  ...           ...  \n",
              "2023-04-01  29268.806641  511540319004  \n",
              "2023-05-01  27219.658203  443473015479  \n",
              "2023-06-01  30477.251953  481734214225  \n",
              "2023-07-01  29230.111328  382224489090  \n",
              "2023-08-01  29488.714844  128316504969  \n",
              "\n",
              "[80 rows x 6 columns]"
            ],
            "text/html": [
              "\n",
              "\n",
              "  <div id=\"df-58b25cd9-1bdf-41d0-86ce-37df92849416\">\n",
              "    <div class=\"colab-df-container\">\n",
              "      <div>\n",
              "<style scoped>\n",
              "    .dataframe tbody tr th:only-of-type {\n",
              "        vertical-align: middle;\n",
              "    }\n",
              "\n",
              "    .dataframe tbody tr th {\n",
              "        vertical-align: top;\n",
              "    }\n",
              "\n",
              "    .dataframe thead th {\n",
              "        text-align: right;\n",
              "    }\n",
              "</style>\n",
              "<table border=\"1\" class=\"dataframe\">\n",
              "  <thead>\n",
              "    <tr style=\"text-align: right;\">\n",
              "      <th></th>\n",
              "      <th>Open</th>\n",
              "      <th>High</th>\n",
              "      <th>Low</th>\n",
              "      <th>Close</th>\n",
              "      <th>Adj Close</th>\n",
              "      <th>Volume</th>\n",
              "    </tr>\n",
              "    <tr>\n",
              "      <th>Date</th>\n",
              "      <th></th>\n",
              "      <th></th>\n",
              "      <th></th>\n",
              "      <th></th>\n",
              "      <th></th>\n",
              "      <th></th>\n",
              "    </tr>\n",
              "  </thead>\n",
              "  <tbody>\n",
              "    <tr>\n",
              "      <th>2017-01-01</th>\n",
              "      <td>963.658020</td>\n",
              "      <td>1191.099976</td>\n",
              "      <td>755.755981</td>\n",
              "      <td>970.403015</td>\n",
              "      <td>970.403015</td>\n",
              "      <td>5143971692</td>\n",
              "    </tr>\n",
              "    <tr>\n",
              "      <th>2017-02-01</th>\n",
              "      <td>970.940979</td>\n",
              "      <td>1200.390015</td>\n",
              "      <td>946.690979</td>\n",
              "      <td>1179.969971</td>\n",
              "      <td>1179.969971</td>\n",
              "      <td>4282761200</td>\n",
              "    </tr>\n",
              "    <tr>\n",
              "      <th>2017-03-01</th>\n",
              "      <td>1180.040039</td>\n",
              "      <td>1280.310059</td>\n",
              "      <td>903.713013</td>\n",
              "      <td>1071.790039</td>\n",
              "      <td>1071.790039</td>\n",
              "      <td>10872455960</td>\n",
              "    </tr>\n",
              "    <tr>\n",
              "      <th>2017-04-01</th>\n",
              "      <td>1071.709961</td>\n",
              "      <td>1347.910034</td>\n",
              "      <td>1061.089966</td>\n",
              "      <td>1347.890015</td>\n",
              "      <td>1347.890015</td>\n",
              "      <td>9757448112</td>\n",
              "    </tr>\n",
              "    <tr>\n",
              "      <th>2017-05-01</th>\n",
              "      <td>1348.300049</td>\n",
              "      <td>2763.709961</td>\n",
              "      <td>1348.300049</td>\n",
              "      <td>2286.409912</td>\n",
              "      <td>2286.409912</td>\n",
              "      <td>34261856864</td>\n",
              "    </tr>\n",
              "    <tr>\n",
              "      <th>...</th>\n",
              "      <td>...</td>\n",
              "      <td>...</td>\n",
              "      <td>...</td>\n",
              "      <td>...</td>\n",
              "      <td>...</td>\n",
              "      <td>...</td>\n",
              "    </tr>\n",
              "    <tr>\n",
              "      <th>2023-04-01</th>\n",
              "      <td>28473.332031</td>\n",
              "      <td>31005.607422</td>\n",
              "      <td>27070.849609</td>\n",
              "      <td>29268.806641</td>\n",
              "      <td>29268.806641</td>\n",
              "      <td>511540319004</td>\n",
              "    </tr>\n",
              "    <tr>\n",
              "      <th>2023-05-01</th>\n",
              "      <td>29227.103516</td>\n",
              "      <td>29820.126953</td>\n",
              "      <td>25878.429688</td>\n",
              "      <td>27219.658203</td>\n",
              "      <td>27219.658203</td>\n",
              "      <td>443473015479</td>\n",
              "    </tr>\n",
              "    <tr>\n",
              "      <th>2023-06-01</th>\n",
              "      <td>27218.412109</td>\n",
              "      <td>31389.539062</td>\n",
              "      <td>24797.167969</td>\n",
              "      <td>30477.251953</td>\n",
              "      <td>30477.251953</td>\n",
              "      <td>481734214225</td>\n",
              "    </tr>\n",
              "    <tr>\n",
              "      <th>2023-07-01</th>\n",
              "      <td>30471.847656</td>\n",
              "      <td>31814.515625</td>\n",
              "      <td>28934.294922</td>\n",
              "      <td>29230.111328</td>\n",
              "      <td>29230.111328</td>\n",
              "      <td>382224489090</td>\n",
              "    </tr>\n",
              "    <tr>\n",
              "      <th>2023-08-01</th>\n",
              "      <td>29230.873047</td>\n",
              "      <td>30176.796875</td>\n",
              "      <td>28657.023438</td>\n",
              "      <td>29488.714844</td>\n",
              "      <td>29488.714844</td>\n",
              "      <td>128316504969</td>\n",
              "    </tr>\n",
              "  </tbody>\n",
              "</table>\n",
              "<p>80 rows × 6 columns</p>\n",
              "</div>\n",
              "      <button class=\"colab-df-convert\" onclick=\"convertToInteractive('df-58b25cd9-1bdf-41d0-86ce-37df92849416')\"\n",
              "              title=\"Convert this dataframe to an interactive table.\"\n",
              "              style=\"display:none;\">\n",
              "\n",
              "  <svg xmlns=\"http://www.w3.org/2000/svg\" height=\"24px\"viewBox=\"0 0 24 24\"\n",
              "       width=\"24px\">\n",
              "    <path d=\"M0 0h24v24H0V0z\" fill=\"none\"/>\n",
              "    <path d=\"M18.56 5.44l.94 2.06.94-2.06 2.06-.94-2.06-.94-.94-2.06-.94 2.06-2.06.94zm-11 1L8.5 8.5l.94-2.06 2.06-.94-2.06-.94L8.5 2.5l-.94 2.06-2.06.94zm10 10l.94 2.06.94-2.06 2.06-.94-2.06-.94-.94-2.06-.94 2.06-2.06.94z\"/><path d=\"M17.41 7.96l-1.37-1.37c-.4-.4-.92-.59-1.43-.59-.52 0-1.04.2-1.43.59L10.3 9.45l-7.72 7.72c-.78.78-.78 2.05 0 2.83L4 21.41c.39.39.9.59 1.41.59.51 0 1.02-.2 1.41-.59l7.78-7.78 2.81-2.81c.8-.78.8-2.07 0-2.86zM5.41 20L4 18.59l7.72-7.72 1.47 1.35L5.41 20z\"/>\n",
              "  </svg>\n",
              "      </button>\n",
              "\n",
              "\n",
              "\n",
              "    <div id=\"df-00f53be2-d896-43bf-a00b-07118dc0af0f\">\n",
              "      <button class=\"colab-df-quickchart\" onclick=\"quickchart('df-00f53be2-d896-43bf-a00b-07118dc0af0f')\"\n",
              "              title=\"Suggest charts.\"\n",
              "              style=\"display:none;\">\n",
              "\n",
              "<svg xmlns=\"http://www.w3.org/2000/svg\" height=\"24px\"viewBox=\"0 0 24 24\"\n",
              "     width=\"24px\">\n",
              "    <g>\n",
              "        <path d=\"M19 3H5c-1.1 0-2 .9-2 2v14c0 1.1.9 2 2 2h14c1.1 0 2-.9 2-2V5c0-1.1-.9-2-2-2zM9 17H7v-7h2v7zm4 0h-2V7h2v10zm4 0h-2v-4h2v4z\"/>\n",
              "    </g>\n",
              "</svg>\n",
              "      </button>\n",
              "    </div>\n",
              "\n",
              "<style>\n",
              "  .colab-df-quickchart {\n",
              "    background-color: #E8F0FE;\n",
              "    border: none;\n",
              "    border-radius: 50%;\n",
              "    cursor: pointer;\n",
              "    display: none;\n",
              "    fill: #1967D2;\n",
              "    height: 32px;\n",
              "    padding: 0 0 0 0;\n",
              "    width: 32px;\n",
              "  }\n",
              "\n",
              "  .colab-df-quickchart:hover {\n",
              "    background-color: #E2EBFA;\n",
              "    box-shadow: 0px 1px 2px rgba(60, 64, 67, 0.3), 0px 1px 3px 1px rgba(60, 64, 67, 0.15);\n",
              "    fill: #174EA6;\n",
              "  }\n",
              "\n",
              "  [theme=dark] .colab-df-quickchart {\n",
              "    background-color: #3B4455;\n",
              "    fill: #D2E3FC;\n",
              "  }\n",
              "\n",
              "  [theme=dark] .colab-df-quickchart:hover {\n",
              "    background-color: #434B5C;\n",
              "    box-shadow: 0px 1px 3px 1px rgba(0, 0, 0, 0.15);\n",
              "    filter: drop-shadow(0px 1px 2px rgba(0, 0, 0, 0.3));\n",
              "    fill: #FFFFFF;\n",
              "  }\n",
              "</style>\n",
              "\n",
              "    <script>\n",
              "      async function quickchart(key) {\n",
              "        const containerElement = document.querySelector('#' + key);\n",
              "        const charts = await google.colab.kernel.invokeFunction(\n",
              "            'suggestCharts', [key], {});\n",
              "      }\n",
              "    </script>\n",
              "\n",
              "      <script>\n",
              "\n",
              "function displayQuickchartButton(domScope) {\n",
              "  let quickchartButtonEl =\n",
              "    domScope.querySelector('#df-00f53be2-d896-43bf-a00b-07118dc0af0f button.colab-df-quickchart');\n",
              "  quickchartButtonEl.style.display =\n",
              "    google.colab.kernel.accessAllowed ? 'block' : 'none';\n",
              "}\n",
              "\n",
              "        displayQuickchartButton(document);\n",
              "      </script>\n",
              "      <style>\n",
              "    .colab-df-container {\n",
              "      display:flex;\n",
              "      flex-wrap:wrap;\n",
              "      gap: 12px;\n",
              "    }\n",
              "\n",
              "    .colab-df-convert {\n",
              "      background-color: #E8F0FE;\n",
              "      border: none;\n",
              "      border-radius: 50%;\n",
              "      cursor: pointer;\n",
              "      display: none;\n",
              "      fill: #1967D2;\n",
              "      height: 32px;\n",
              "      padding: 0 0 0 0;\n",
              "      width: 32px;\n",
              "    }\n",
              "\n",
              "    .colab-df-convert:hover {\n",
              "      background-color: #E2EBFA;\n",
              "      box-shadow: 0px 1px 2px rgba(60, 64, 67, 0.3), 0px 1px 3px 1px rgba(60, 64, 67, 0.15);\n",
              "      fill: #174EA6;\n",
              "    }\n",
              "\n",
              "    [theme=dark] .colab-df-convert {\n",
              "      background-color: #3B4455;\n",
              "      fill: #D2E3FC;\n",
              "    }\n",
              "\n",
              "    [theme=dark] .colab-df-convert:hover {\n",
              "      background-color: #434B5C;\n",
              "      box-shadow: 0px 1px 3px 1px rgba(0, 0, 0, 0.15);\n",
              "      filter: drop-shadow(0px 1px 2px rgba(0, 0, 0, 0.3));\n",
              "      fill: #FFFFFF;\n",
              "    }\n",
              "  </style>\n",
              "\n",
              "      <script>\n",
              "        const buttonEl =\n",
              "          document.querySelector('#df-58b25cd9-1bdf-41d0-86ce-37df92849416 button.colab-df-convert');\n",
              "        buttonEl.style.display =\n",
              "          google.colab.kernel.accessAllowed ? 'block' : 'none';\n",
              "\n",
              "        async function convertToInteractive(key) {\n",
              "          const element = document.querySelector('#df-58b25cd9-1bdf-41d0-86ce-37df92849416');\n",
              "          const dataTable =\n",
              "            await google.colab.kernel.invokeFunction('convertToInteractive',\n",
              "                                                     [key], {});\n",
              "          if (!dataTable) return;\n",
              "\n",
              "          const docLinkHtml = 'Like what you see? Visit the ' +\n",
              "            '<a target=\"_blank\" href=https://colab.research.google.com/notebooks/data_table.ipynb>data table notebook</a>'\n",
              "            + ' to learn more about interactive tables.';\n",
              "          element.innerHTML = '';\n",
              "          dataTable['output_type'] = 'display_data';\n",
              "          await google.colab.output.renderOutput(dataTable, element);\n",
              "          const docLink = document.createElement('div');\n",
              "          docLink.innerHTML = docLinkHtml;\n",
              "          element.appendChild(docLink);\n",
              "        }\n",
              "      </script>\n",
              "    </div>\n",
              "  </div>\n"
            ]
          },
          "metadata": {},
          "execution_count": 2
        }
      ]
    },
    {
      "cell_type": "code",
      "source": [
        "import matplotlib\n",
        "from matplotlib.pyplot import*\n",
        "plot(BTC[\"Adj Close\"])\n",
        "show()"
      ],
      "metadata": {
        "id": "GTTYPpeFdzMl",
        "outputId": "c65108d8-97a5-4d2a-8ab4-fb70df36d301",
        "colab": {
          "base_uri": "https://localhost:8080/",
          "height": 430
        }
      },
      "execution_count": 3,
      "outputs": [
        {
          "output_type": "display_data",
          "data": {
            "text/plain": [
              "<Figure size 640x480 with 1 Axes>"
            ],
            "image/png": "[encoded data removed]"
          },
          "metadata": {}
        }
      ]
    },
    {
      "cell_type": "code",
      "source": [
        "BTC.info()\n"
      ],
      "metadata": {
        "id": "EeNiF2Ugd648",
        "outputId": "54a715bd-b351-497f-c0ee-e4c3b88ec96c",
        "colab": {
          "base_uri": "https://localhost:8080/"
        }
      },
      "execution_count": 4,
      "outputs": [
        {
          "output_type": "stream",
          "name": "stdout",
          "text": [
            "<class 'pandas.core.frame.DataFrame'>\n",
            "DatetimeIndex: 80 entries, 2017-01-01 to 2023-08-01\n",
            "Data columns (total 6 columns):\n",
            " #   Column     Non-Null Count  Dtype  \n",
            "---  ------     --------------  -----  \n",
            " 0   Open       80 non-null     float64\n",
            " 1   High       80 non-null     float64\n",
            " 2   Low        80 non-null     float64\n",
            " 3   Close      80 non-null     float64\n",
            " 4   Adj Close  80 non-null     float64\n",
            " 5   Volume     80 non-null     int64  \n",
            "dtypes: float64(5), int64(1)\n",
            "memory usage: 4.4 KB\n"
          ]
        }
      ]
    }
  ]
}