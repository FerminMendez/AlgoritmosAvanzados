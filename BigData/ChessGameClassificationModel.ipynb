{
  "nbformat": 4,
  "nbformat_minor": 0,
  "metadata": {
    "colab": {
      "provenance": [],
      "toc_visible": true,
      "authorship_tag": "ABX9TyNnku6MQ17d64Mj0T42YV7f",
      "include_colab_link": true
    },
    "kernelspec": {
      "name": "python3",
      "display_name": "Python 3"
    },
    "language_info": {
      "name": "python"
    }
  },
  "cells": [
    {
      "cell_type": "markdown",
      "metadata": {
        "id": "view-in-github",
        "colab_type": "text"
      },
      "source": [
        "<a href=\"https://colab.research.google.com/github/FerminMendez/AlgoritmosAvanzados/blob/main/BigData/ChessGameClassificationModel.ipynb\" target=\"_parent\"><img src=\"https://colab.research.google.com/assets/colab-badge.svg\" alt=\"Open In Colab\"/></a>"
      ]
    },
    {
      "cell_type": "markdown",
      "source": [
        "# Sobre este proyecto"
      ],
      "metadata": {
        "id": "UL6UhF2rZp5v"
      }
    },
    {
      "cell_type": "markdown",
      "source": [
        "En este proyecto vamos a resolver un problema de clasificación binaria. Dado un conjunto de datos de partidas de ajedrez determinaremos quien fue el jugador que ganó. El dataset está disponible en la plataforma Kaggle. El Dataset contiene más de 6 millones de registros y tiene peso de 4.38 GB.\n"
      ],
      "metadata": {
        "id": "BtrQtxhBZuXc"
      }
    },
    {
      "cell_type": "markdown",
      "source": [
        "Fuentes útiles:\n",
        "Hay algunas libretas que hacen un análisis exploratorio de los datos. A continuación dos de ellas.\n",
        "https://www.kaggle.com/code/justinwitter/data-preparation\n",
        "\n",
        "https://www.kaggle.com/code/sumeetpachauri/dm-chess-data\n"
      ],
      "metadata": {
        "id": "9nm8eHdWcZA_"
      }
    },
    {
      "cell_type": "markdown",
      "source": [
        "# Importando los datos"
      ],
      "metadata": {
        "id": "X534ZBqsv7mz"
      }
    },
    {
      "cell_type": "markdown",
      "source": [
        "Recuperado de https://www.kaggle.com/datasets/arevel/chess-games"
      ],
      "metadata": {
        "id": "2URRJeHjHqi8"
      }
    },
    {
      "cell_type": "markdown",
      "source": [
        "¿Cómo importar los datos? Para importar el dataset directo de Kaggle puedes seguir las siguiente guia https://medium.com/analytics-vidhya/how-to-fetch-kaggle-datasets-into-google-colab-ea682569851a\n"
      ],
      "metadata": {
        "id": "xP51nEEXZR_e"
      }
    },
    {
      "cell_type": "markdown",
      "source": [
        "##Configura tus variables de Kaggle"
      ],
      "metadata": {
        "id": "Bp-y1lczZkP4"
      }
    },
    {
      "cell_type": "code",
      "source": [
        "import os\n",
        "os.environ['KAGGLE_USERNAME']=''\n",
        "os.environ['KAGGLE_KEY']=''\n",
        "!kaggle datasets download -d arevel/chess-games"
      ],
      "metadata": {
        "colab": {
          "base_uri": "https://localhost:8080/"
        },
        "id": "D5ZAg3gXHqoN",
        "outputId": "c9d34b6e-5312-4b4a-d691-ac1cb29b9422"
      },
      "execution_count": null,
      "outputs": [
        {
          "output_type": "stream",
          "name": "stdout",
          "text": [
            "Downloading chess-games.zip to /content\n",
            " 99% 1.44G/1.45G [00:18<00:00, 90.6MB/s]\n",
            "100% 1.45G/1.45G [00:18<00:00, 83.0MB/s]\n"
          ]
        }
      ]
    },
    {
      "cell_type": "code",
      "source": [
        "!pip install pyspark"
      ],
      "metadata": {
        "colab": {
          "base_uri": "https://localhost:8080/"
        },
        "id": "esSTh6hKHqrR",
        "outputId": "ff574d77-7725-484c-97ce-dd5c8f370e0c"
      },
      "execution_count": null,
      "outputs": [
        {
          "output_type": "stream",
          "name": "stdout",
          "text": [
            "Collecting pyspark\n",
            "  Downloading pyspark-3.5.0.tar.gz (316.9 MB)\n",
            "\u001b[2K     \u001b[90m━━━━━━━━━━━━━━━━━━━━━━━━━━━━━━━━━━━━━━━━\u001b[0m \u001b[32m316.9/316.9 MB\u001b[0m \u001b[31m2.9 MB/s\u001b[0m eta \u001b[36m0:00:00\u001b[0m\n",
            "\u001b[?25h  Preparing metadata (setup.py) ... \u001b[?25l\u001b[?25hdone\n",
            "Requirement already satisfied: py4j==0.10.9.7 in /usr/local/lib/python3.10/dist-packages (from pyspark) (0.10.9.7)\n",
            "Building wheels for collected packages: pyspark\n",
            "  Building wheel for pyspark (setup.py) ... \u001b[?25l\u001b[?25hdone\n",
            "  Created wheel for pyspark: filename=pyspark-3.5.0-py2.py3-none-any.whl size=317425344 sha256=3b26389507c7e5ad9bcadc6d66ce7c344c7fa29af526d04e61bb6fea180b99b8\n",
            "  Stored in directory: /root/.cache/pip/wheels/41/4e/10/c2cf2467f71c678cfc8a6b9ac9241e5e44a01940da8fbb17fc\n",
            "Successfully built pyspark\n",
            "Installing collected packages: pyspark\n",
            "Successfully installed pyspark-3.5.0\n"
          ]
        }
      ]
    },
    {
      "cell_type": "code",
      "source": [
        "from pyspark.sql import SparkSession\n",
        "spark = SparkSession.builder.appName('used-cars-bigdata').getOrCreate()"
      ],
      "metadata": {
        "id": "cI_rrkqVHqt6"
      },
      "execution_count": null,
      "outputs": []
    },
    {
      "cell_type": "markdown",
      "source": [
        "Una vez importados los datos vamos a descomprimir el zip para tener disponible el archivo chess_games.csv que a continuación convertiremos a un dataframe de pyspark."
      ],
      "metadata": {
        "id": "l9RoC_05ak0t"
      }
    },
    {
      "cell_type": "code",
      "source": [
        "!ls\n",
        "!unzip \\*.zip  && rm *.zip"
      ],
      "metadata": {
        "colab": {
          "base_uri": "https://localhost:8080/"
        },
        "id": "Du37whRXgTgS",
        "outputId": "c8d0b163-85c1-4a4c-d8c2-56c5365c3fa2"
      },
      "execution_count": null,
      "outputs": [
        {
          "output_type": "stream",
          "name": "stdout",
          "text": [
            "chess-games.zip  sample_data\n",
            "Archive:  chess-games.zip\n",
            "  inflating: chess_games.csv         \n"
          ]
        }
      ]
    },
    {
      "cell_type": "code",
      "source": [
        "data = spark.read.csv('chess_games.csv', header=True)"
      ],
      "metadata": {
        "id": "woqBlDC9jh9c"
      },
      "execution_count": null,
      "outputs": []
    },
    {
      "cell_type": "code",
      "source": [
        "data.show()"
      ],
      "metadata": {
        "colab": {
          "base_uri": "https://localhost:8080/"
        },
        "id": "QBpjIlstkCKH",
        "outputId": "3e090186-ac91-46f4-c305-7e1cebf8dd5c"
      },
      "execution_count": null,
      "outputs": [
        {
          "output_type": "stream",
          "name": "stdout",
          "text": [
            "+------------------+---------------+---------------+------+----------+--------+--------+--------+---------------+---------------+---+--------------------+-----------+------------+--------------------+\n",
            "|             Event|          White|          Black|Result|   UTCDate| UTCTime|WhiteElo|BlackElo|WhiteRatingDiff|BlackRatingDiff|ECO|             Opening|TimeControl| Termination|                  AN|\n",
            "+------------------+---------------+---------------+------+----------+--------+--------+--------+---------------+---------------+---+--------------------+-----------+------------+--------------------+\n",
            "|        Classical |        eisaaaa|       HAMID449|   1-0|2016.06.30|22:00:01|    1901|    1896|           11.0|          -11.0|D10|        Slav Defense|      300+5|Time forfeit|1. d4 d5 2. c4 c6...|\n",
            "|            Blitz |         go4jas|     Sergei1973|   0-1|2016.06.30|22:00:01|    1641|    1627|          -11.0|           12.0|C20|King's Pawn Openi...|      300+0|      Normal|1. e4 e5 2. b3 Nf...|\n",
            "| Blitz tournament |Evangelistaizac|         kafune|   1-0|2016.06.30|22:00:02|    1647|    1688|           13.0|          -13.0|B01|Scandinavian Defe...|      180+0|Time forfeit|1. e4 d5 2. exd5 ...|\n",
            "|   Correspondence |         Jvayne|       Wsjvayne|   1-0|2016.06.30|22:00:02|    1706|    1317|           27.0|          -25.0|A00|Van't Kruijs Opening|          -|      Normal|1. e3 Nf6 2. Bc4 ...|\n",
            "| Blitz tournament |         kyoday|      BrettDale|   0-1|2016.06.30|22:00:02|    1945|    1900|          -14.0|           13.0|B90|Sicilian Defense:...|      180+0|Time forfeit|1. e4 c5 2. Nf3 d...|\n",
            "| Blitz tournament | lucaseixasouza|         diguim|   0-1|2016.06.30|22:00:02|    1773|    1809|          -10.0|           10.0|C27|         Vienna Game|      180+0|      Normal|1. e4 e5 2. Nc3 d...|\n",
            "| Blitz tournament |       RENZZO77|HeadlessChicken|   0-1|2016.06.30|22:00:02|    1895|    1886|          -12.0|           12.0|B10|Caro-Kann Defense...|      180+0|Time forfeit|1. e4 c6 2. Nf3 d...|\n",
            "| Blitz tournament |          ipero|      Bayern123|   1-0|2016.06.30|22:00:02|    2155|    2356|           20.0|          -20.0|D02|Queen's Pawn Game...|      180+0|      Normal|1. d4 d5 2. Nf3 N...|\n",
            "| Blitz tournament |Loginov19510410|        Kereshu|   0-1|2016.06.30|22:00:02|    2010|    2111|           -9.0|            9.0|A45|         Indian Game|      300+0|      Normal|1. d4 Nf6 2. Bf4 ...|\n",
            "| Blitz tournament |     Shambobala|     cernunnoss|   1-0|2016.06.30|22:00:02|    1764|    1773|           12.0|          -12.0|B01|Scandinavian Defe...|      180+0|Time forfeit|1. e4 d5 2. exd5 ...|\n",
            "|        Classical |        DARDELU|   chess4life54|   0-1|2016.06.30|22:00:01|    1649|    1638|          -13.0|           11.0|C57|Italian Game: Two...|      900+3|      Normal|1. e4 e5 2. Nf3 N...|\n",
            "|        Classical |        fabikim|         sereno|   1-0|2016.06.30|22:00:02|    1630|    1500|            7.0|           -7.0|C41| Philidor Defense #3|      420+5|      Normal|1. e4 e5 2. Nf3 d...|\n",
            "| Blitz tournament |      IZDenisZI|         BoBo93|   1-0|2016.06.30|22:00:02|    1833|    1837|           11.0|          -12.0|C36|King's Gambit Acc...|      300+0|      Normal|1. e4 e5 2. f4 ex...|\n",
            "| Blitz tournament |     lasha-fero| ildivinojohnny|   1-0|2016.06.30|22:00:02|    2020|    1979|           10.0|          -11.0|A00|      Polish Opening|      180+0|Time forfeit|1. b4 e6 2. Bb2 d...|\n",
            "| Blitz tournament |       arkadyNa|     sofianet06|   0-1|2016.06.30|22:00:02|    1581|    1616|          -12.0|           11.0|B01|Scandinavian Defe...|      180+0|Time forfeit|1. e4 d5 2. exd5 ...|\n",
            "| Blitz tournament |    mayconchess|        trend19|   0-1|2016.06.30|22:00:02|    1879|    1868|          -13.0|           12.0|B01|Scandinavian Defe...|      180+0|      Normal|1. e4 d5 2. exd5 ...|\n",
            "| Blitz tournament |         lj1983|        plmnnnn|   1-0|2016.06.30|22:00:02|    1963|    1979|           12.0|          -13.0|B10|Caro-Kann Defense...|      180+0|      Normal|1. e4 c6 2. Nf3 d...|\n",
            "| Blitz tournament |         Inorem|       leymoral|   1-0|2016.06.30|22:00:02|    1751|    1712|           10.0|          -10.0|C62|Ruy Lopez: Steini...|      180+0|      Normal|1. e4 e5 2. Nf3 N...|\n",
            "| Blitz tournament |     Torres2300| Trabelsi-Wajdi|   0-1|2016.06.30|22:00:02|    1795|    1800|          -14.0|           11.0|B32|Sicilian Defense:...|      300+0|      Normal|1. e4 c5 2. Nf3 e...|\n",
            "| Blitz tournament |         Igor76|          dancg|   1-0|2016.06.30|22:00:02|    1913|    1925|           11.0|          -13.0|B12|Caro-Kann Defense...|      300+0|      Normal|1. e4 c6 2. d4 d5...|\n",
            "+------------------+---------------+---------------+------+----------+--------+--------+--------+---------------+---------------+---+--------------------+-----------+------------+--------------------+\n",
            "only showing top 20 rows\n",
            "\n"
          ]
        }
      ]
    },
    {
      "cell_type": "markdown",
      "source": [
        "## Sobre el dataset\n",
        "\n",
        "\n",
        "\n"
      ],
      "metadata": {
        "id": "Cu8oYQ3NwCFB"
      }
    },
    {
      "cell_type": "markdown",
      "source": [
        "Número de registros. 6.25 millones.\n",
        "Peso: 4.38 GB\n",
        "Columnas:\n",
        "- Event: Game type.\n",
        "- White: White's ID.\n",
        "- Black: Black's ID.\n",
        "- Result: Game Result (1-0 White wins) (0-1 Black wins)\n",
        "- UTCDate: UTC Date.\n",
        "- UTCTime: UTC Time.\n",
        "- WhiteElo: White's ELO.\n",
        "- BlackElo: Black's ELO.\n",
        "- WhiteRatingDiff: White's rating points difference after the game.\n",
        "- BlackRatingDiff: Blacks's rating points difference after the game.\n",
        "- ECO: Opening in ECO encoding.\n",
        "- Opening: Opening name.\n",
        "- TimeControl: Time of the game for each player in seconds. The number after the increment is the number of seconds before the player's clock starts ticking in each turn.\n",
        "- Termination: Reason of the game's end.\n",
        "- AN: Movements in Movetext format."
      ],
      "metadata": {
        "id": "IvMn5_U6drBK"
      }
    },
    {
      "cell_type": "code",
      "source": [
        "data.count()"
      ],
      "metadata": {
        "colab": {
          "base_uri": "https://localhost:8080/"
        },
        "id": "yeSxULUMkK9U",
        "outputId": "56cdbba7-8e98-484c-cebb-d569a1819521"
      },
      "execution_count": null,
      "outputs": [
        {
          "output_type": "execute_result",
          "data": {
            "text/plain": [
              "6256184"
            ]
          },
          "metadata": {},
          "execution_count": 27
        }
      ]
    },
    {
      "cell_type": "markdown",
      "source": [
        "El dataset no tiene valores faltantes."
      ],
      "metadata": {
        "id": "vDF1ludihIgf"
      }
    },
    {
      "cell_type": "markdown",
      "source": [
        "# Sobre los datos"
      ],
      "metadata": {
        "id": "8IPdoQwlWjpt"
      }
    },
    {
      "cell_type": "markdown",
      "source": [
        "Filtrando las variables que utilizaremos para el análisis:\n",
        "Eliminamos los nombres de los jugadores por identificadores únicos.\n",
        "\n",
        "Variables independientes:\n",
        "*   Event as GameType: Variable categorica del tipo de partido que se juega. (Bullet,tournament, blitz, etc)\n",
        "*   WhiteElo: Entero del Elo del jugador con blancas\n",
        "*   BlackElo: Entero del Elo del jugador con negras\n",
        "*   Opening\n",
        "\n",
        "Variable dependiente:\n",
        "*   Result\n",
        "\n",
        "Variables para agregar en siguientes versiones\n",
        "*   TimeControl\n",
        "*   Termination\n",
        "\n"
      ],
      "metadata": {
        "id": "A7riDB7DxeRN"
      }
    },
    {
      "cell_type": "markdown",
      "source": [
        "### Selección de variables que vamos a utilizar"
      ],
      "metadata": {
        "id": "Jrzbw4-zVcc3"
      }
    },
    {
      "cell_type": "code",
      "source": [
        "df = data.select(\"event\", \"WhiteElo\",\"BlackElo\",\"Opening\",\"TimeControl\",\"Termination\",\"Result\")\n",
        "df=df.withColumnRenamed(\"event\", \"GameType\")\n",
        "df.show()"
      ],
      "metadata": {
        "id": "2arC9x3LkaJZ",
        "colab": {
          "base_uri": "https://localhost:8080/"
        },
        "outputId": "72ebad78-1225-41c5-8ef9-10754135ee35"
      },
      "execution_count": null,
      "outputs": [
        {
          "output_type": "stream",
          "name": "stdout",
          "text": [
            "+------------------+--------+--------+--------------------+-----------+------------+------+\n",
            "|          GameType|WhiteElo|BlackElo|             Opening|TimeControl| Termination|Result|\n",
            "+------------------+--------+--------+--------------------+-----------+------------+------+\n",
            "|        Classical |    1901|    1896|        Slav Defense|      300+5|Time forfeit|   1-0|\n",
            "|            Blitz |    1641|    1627|King's Pawn Openi...|      300+0|      Normal|   0-1|\n",
            "| Blitz tournament |    1647|    1688|Scandinavian Defe...|      180+0|Time forfeit|   1-0|\n",
            "|   Correspondence |    1706|    1317|Van't Kruijs Opening|          -|      Normal|   1-0|\n",
            "| Blitz tournament |    1945|    1900|Sicilian Defense:...|      180+0|Time forfeit|   0-1|\n",
            "| Blitz tournament |    1773|    1809|         Vienna Game|      180+0|      Normal|   0-1|\n",
            "| Blitz tournament |    1895|    1886|Caro-Kann Defense...|      180+0|Time forfeit|   0-1|\n",
            "| Blitz tournament |    2155|    2356|Queen's Pawn Game...|      180+0|      Normal|   1-0|\n",
            "| Blitz tournament |    2010|    2111|         Indian Game|      300+0|      Normal|   0-1|\n",
            "| Blitz tournament |    1764|    1773|Scandinavian Defe...|      180+0|Time forfeit|   1-0|\n",
            "|        Classical |    1649|    1638|Italian Game: Two...|      900+3|      Normal|   0-1|\n",
            "|        Classical |    1630|    1500| Philidor Defense #3|      420+5|      Normal|   1-0|\n",
            "| Blitz tournament |    1833|    1837|King's Gambit Acc...|      300+0|      Normal|   1-0|\n",
            "| Blitz tournament |    2020|    1979|      Polish Opening|      180+0|Time forfeit|   1-0|\n",
            "| Blitz tournament |    1581|    1616|Scandinavian Defe...|      180+0|Time forfeit|   0-1|\n",
            "| Blitz tournament |    1879|    1868|Scandinavian Defe...|      180+0|      Normal|   0-1|\n",
            "| Blitz tournament |    1963|    1979|Caro-Kann Defense...|      180+0|      Normal|   1-0|\n",
            "| Blitz tournament |    1751|    1712|Ruy Lopez: Steini...|      180+0|      Normal|   1-0|\n",
            "| Blitz tournament |    1795|    1800|Sicilian Defense:...|      300+0|      Normal|   0-1|\n",
            "| Blitz tournament |    1913|    1925|Caro-Kann Defense...|      300+0|      Normal|   1-0|\n",
            "+------------------+--------+--------+--------------------+-----------+------------+------+\n",
            "only showing top 20 rows\n",
            "\n"
          ]
        }
      ]
    },
    {
      "cell_type": "markdown",
      "source": [
        "## Data preparation"
      ],
      "metadata": {
        "id": "wIgaPSvgVhh-"
      }
    },
    {
      "cell_type": "markdown",
      "source": [
        "Cambiamos Result por valores binarios donde 0 es \"Gana negras\" y 1 \"Ganan blancas\""
      ],
      "metadata": {
        "id": "3qSIynIqVl8N"
      }
    },
    {
      "cell_type": "code",
      "source": [
        "result_mapping = {\n",
        "    \"1-0\": \"1\",\n",
        "    \"0-1\": \"0\",\n",
        "}\n",
        "df = df.replace(to_replace=result_mapping, subset=['Result'])\n",
        "df = df.filter((df[\"Result\"] == 0) | (df[\"Result\"] == 1))\n",
        "df.show()"
      ],
      "metadata": {
        "colab": {
          "base_uri": "https://localhost:8080/"
        },
        "id": "J68r-MUc6-O0",
        "outputId": "ba7d47a7-6fd0-4a50-f375-5e3c813db1b1"
      },
      "execution_count": null,
      "outputs": [
        {
          "output_type": "stream",
          "name": "stdout",
          "text": [
            "+------------------+--------+--------+--------------------+-----------+------------+------+\n",
            "|          GameType|WhiteElo|BlackElo|             Opening|TimeControl| Termination|Result|\n",
            "+------------------+--------+--------+--------------------+-----------+------------+------+\n",
            "|        Classical |    1901|    1896|        Slav Defense|      300+5|Time forfeit|     1|\n",
            "|            Blitz |    1641|    1627|King's Pawn Openi...|      300+0|      Normal|     0|\n",
            "| Blitz tournament |    1647|    1688|Scandinavian Defe...|      180+0|Time forfeit|     1|\n",
            "|   Correspondence |    1706|    1317|Van't Kruijs Opening|          -|      Normal|     1|\n",
            "| Blitz tournament |    1945|    1900|Sicilian Defense:...|      180+0|Time forfeit|     0|\n",
            "| Blitz tournament |    1773|    1809|         Vienna Game|      180+0|      Normal|     0|\n",
            "| Blitz tournament |    1895|    1886|Caro-Kann Defense...|      180+0|Time forfeit|     0|\n",
            "| Blitz tournament |    2155|    2356|Queen's Pawn Game...|      180+0|      Normal|     1|\n",
            "| Blitz tournament |    2010|    2111|         Indian Game|      300+0|      Normal|     0|\n",
            "| Blitz tournament |    1764|    1773|Scandinavian Defe...|      180+0|Time forfeit|     1|\n",
            "|        Classical |    1649|    1638|Italian Game: Two...|      900+3|      Normal|     0|\n",
            "|        Classical |    1630|    1500| Philidor Defense #3|      420+5|      Normal|     1|\n",
            "| Blitz tournament |    1833|    1837|King's Gambit Acc...|      300+0|      Normal|     1|\n",
            "| Blitz tournament |    2020|    1979|      Polish Opening|      180+0|Time forfeit|     1|\n",
            "| Blitz tournament |    1581|    1616|Scandinavian Defe...|      180+0|Time forfeit|     0|\n",
            "| Blitz tournament |    1879|    1868|Scandinavian Defe...|      180+0|      Normal|     0|\n",
            "| Blitz tournament |    1963|    1979|Caro-Kann Defense...|      180+0|      Normal|     1|\n",
            "| Blitz tournament |    1751|    1712|Ruy Lopez: Steini...|      180+0|      Normal|     1|\n",
            "| Blitz tournament |    1795|    1800|Sicilian Defense:...|      300+0|      Normal|     0|\n",
            "| Blitz tournament |    1913|    1925|Caro-Kann Defense...|      300+0|      Normal|     1|\n",
            "+------------------+--------+--------+--------------------+-----------+------------+------+\n",
            "only showing top 20 rows\n",
            "\n"
          ]
        }
      ]
    },
    {
      "cell_type": "markdown",
      "source": [
        "Convertimos las variables categóricas con One-hot encoding"
      ],
      "metadata": {
        "id": "bKbIhu3yVxeQ"
      }
    },
    {
      "cell_type": "code",
      "source": [
        "from pyspark.sql import SparkSession\n",
        "from pyspark.ml.feature import StringIndexer, OneHotEncoder\n",
        "from pyspark.ml import Pipeline\n",
        "\n",
        "indexer = StringIndexer(inputCol=\"GameType\", outputCol=\"GameTypeIndex\")\n",
        "df = indexer.fit(df).transform(df)\n",
        "indexer = StringIndexer(inputCol=\"Opening\", outputCol=\"OpeningIndex\")\n",
        "df = indexer.fit(df).transform(df)\n",
        "# Step 2: Perform one-hot encoding\n",
        "encoder = OneHotEncoder(inputCol=\"GameTypeIndex\", outputCol=\"GameTypeOneHot\")\n",
        "df = encoder.fit(df).transform(df)\n",
        "encoder = OneHotEncoder(inputCol=\"OpeningIndex\", outputCol=\"OpeningOneHot\")\n",
        "df = encoder.fit(df).transform(df)\n",
        "df.show()"
      ],
      "metadata": {
        "colab": {
          "base_uri": "https://localhost:8080/"
        },
        "id": "R23VuvYR1OiQ",
        "outputId": "1c849b80-e5d3-4ec2-adc1-be3631537e35"
      },
      "execution_count": null,
      "outputs": [
        {
          "output_type": "stream",
          "name": "stdout",
          "text": [
            "+------------------+--------+--------+--------------------+-----------+------------+------+-------------+------------+--------------+------------------+\n",
            "|          GameType|WhiteElo|BlackElo|             Opening|TimeControl| Termination|Result|GameTypeIndex|OpeningIndex|GameTypeOneHot|     OpeningOneHot|\n",
            "+------------------+--------+--------+--------------------+-----------+------------+------+-------------+------------+--------------+------------------+\n",
            "|        Classical |    1901|    1896|        Slav Defense|      300+5|Time forfeit|     1|          1.0|       131.0|(12,[1],[1.0])|(2938,[131],[1.0])|\n",
            "|            Blitz |    1641|    1627|King's Pawn Openi...|      300+0|      Normal|     0|          0.0|       313.0|(12,[0],[1.0])|(2938,[313],[1.0])|\n",
            "| Blitz tournament |    1647|    1688|Scandinavian Defe...|      180+0|Time forfeit|     1|          4.0|         1.0|(12,[4],[1.0])|  (2938,[1],[1.0])|\n",
            "|   Correspondence |    1706|    1317|Van't Kruijs Opening|          -|      Normal|     1|          6.0|         0.0|(12,[6],[1.0])|  (2938,[0],[1.0])|\n",
            "| Blitz tournament |    1945|    1900|Sicilian Defense:...|      180+0|Time forfeit|     0|          4.0|       338.0|(12,[4],[1.0])|(2938,[338],[1.0])|\n",
            "| Blitz tournament |    1773|    1809|         Vienna Game|      180+0|      Normal|     0|          4.0|        91.0|(12,[4],[1.0])| (2938,[91],[1.0])|\n",
            "| Blitz tournament |    1895|    1886|Caro-Kann Defense...|      180+0|Time forfeit|     0|          4.0|       207.0|(12,[4],[1.0])|(2938,[207],[1.0])|\n",
            "| Blitz tournament |    2155|    2356|Queen's Pawn Game...|      180+0|      Normal|     1|          4.0|        95.0|(12,[4],[1.0])| (2938,[95],[1.0])|\n",
            "| Blitz tournament |    2010|    2111|         Indian Game|      300+0|      Normal|     0|          4.0|        15.0|(12,[4],[1.0])| (2938,[15],[1.0])|\n",
            "| Blitz tournament |    1764|    1773|Scandinavian Defe...|      180+0|Time forfeit|     1|          4.0|         1.0|(12,[4],[1.0])|  (2938,[1],[1.0])|\n",
            "|        Classical |    1649|    1638|Italian Game: Two...|      900+3|      Normal|     0|          1.0|       514.0|(12,[1],[1.0])|(2938,[514],[1.0])|\n",
            "|        Classical |    1630|    1500| Philidor Defense #3|      420+5|      Normal|     1|          1.0|        10.0|(12,[1],[1.0])| (2938,[10],[1.0])|\n",
            "| Blitz tournament |    1833|    1837|King's Gambit Acc...|      300+0|      Normal|     1|          4.0|       489.0|(12,[4],[1.0])|(2938,[489],[1.0])|\n",
            "| Blitz tournament |    2020|    1979|      Polish Opening|      180+0|Time forfeit|     1|          4.0|        49.0|(12,[4],[1.0])| (2938,[49],[1.0])|\n",
            "| Blitz tournament |    1581|    1616|Scandinavian Defe...|      180+0|Time forfeit|     0|          4.0|         1.0|(12,[4],[1.0])|  (2938,[1],[1.0])|\n",
            "| Blitz tournament |    1879|    1868|Scandinavian Defe...|      180+0|      Normal|     0|          4.0|        39.0|(12,[4],[1.0])| (2938,[39],[1.0])|\n",
            "| Blitz tournament |    1963|    1979|Caro-Kann Defense...|      180+0|      Normal|     1|          4.0|       207.0|(12,[4],[1.0])|(2938,[207],[1.0])|\n",
            "| Blitz tournament |    1751|    1712|Ruy Lopez: Steini...|      180+0|      Normal|     1|          4.0|        38.0|(12,[4],[1.0])| (2938,[38],[1.0])|\n",
            "| Blitz tournament |    1795|    1800|Sicilian Defense:...|      300+0|      Normal|     0|          4.0|       299.0|(12,[4],[1.0])|(2938,[299],[1.0])|\n",
            "| Blitz tournament |    1913|    1925|Caro-Kann Defense...|      300+0|      Normal|     1|          4.0|       543.0|(12,[4],[1.0])|(2938,[543],[1.0])|\n",
            "+------------------+--------+--------+--------------------+-----------+------------+------+-------------+------------+--------------+------------------+\n",
            "only showing top 20 rows\n",
            "\n"
          ]
        }
      ]
    },
    {
      "cell_type": "markdown",
      "source": [
        "Nos aseguramos que las variables numéricas se trate como enteros"
      ],
      "metadata": {
        "id": "-paPVXsDWIOt"
      }
    },
    {
      "cell_type": "code",
      "source": [
        "from pyspark.sql.functions import col, when\n",
        "df=df.withColumn(\"WhiteElo\", col(\"WhiteElo\").cast(\"int\"))\n",
        "df=df.withColumn(\"BlackELo\", col(\"BlackELo\").cast(\"int\"))\n",
        "df=df.withColumn(\"Result\", col(\"Result\").cast(\"int\"))"
      ],
      "metadata": {
        "id": "3ux2QEZzDAE6"
      },
      "execution_count": null,
      "outputs": []
    },
    {
      "cell_type": "markdown",
      "source": [
        "Filtramos solo los datos que vamos a utilizar para entrenar el modelo"
      ],
      "metadata": {
        "id": "jd657IwJ830O"
      }
    },
    {
      "cell_type": "code",
      "source": [
        "df_model=df.select( \"WhiteElo\",\"BlackElo\",\"OpeningOneHot\",\"GameTypeOneHot\",\"Result\")"
      ],
      "metadata": {
        "id": "PAy0cjRK83_4"
      },
      "execution_count": null,
      "outputs": []
    },
    {
      "cell_type": "code",
      "source": [
        "from pyspark.ml.feature import VectorAssembler\n",
        "\n",
        "featassembler = VectorAssembler(inputCols=['WhiteElo',\n",
        " 'BlackElo',\n",
        " 'OpeningOneHot',\n",
        " 'GameTypeOneHot',], outputCol = \"Independent Features\" )\n",
        "featassembler"
      ],
      "metadata": {
        "colab": {
          "base_uri": "https://localhost:8080/"
        },
        "id": "A3_qgdk--djE",
        "outputId": "ca0cccfd-4655-447e-d127-864b0b3c8470"
      },
      "execution_count": null,
      "outputs": [
        {
          "output_type": "execute_result",
          "data": {
            "text/plain": [
              "VectorAssembler_3f308d26bef7"
            ]
          },
          "metadata": {},
          "execution_count": 59
        }
      ]
    },
    {
      "cell_type": "code",
      "source": [
        "df_model = featassembler.transform(df_model)\n",
        "df_model.show()"
      ],
      "metadata": {
        "colab": {
          "base_uri": "https://localhost:8080/"
        },
        "id": "sD461-ipAYbq",
        "outputId": "c51452ed-e8f3-414c-d36b-13c1307759e3"
      },
      "execution_count": null,
      "outputs": [
        {
          "output_type": "stream",
          "name": "stdout",
          "text": [
            "+--------+--------+------------------+--------------+------+--------------------+\n",
            "|WhiteElo|BlackElo|     OpeningOneHot|GameTypeOneHot|Result|Independent Features|\n",
            "+--------+--------+------------------+--------------+------+--------------------+\n",
            "|    1901|    1896|(2938,[131],[1.0])|(12,[1],[1.0])|     1|(2952,[0,1,133,29...|\n",
            "|    1641|    1627|(2938,[313],[1.0])|(12,[0],[1.0])|     0|(2952,[0,1,315,29...|\n",
            "|    1647|    1688|  (2938,[1],[1.0])|(12,[4],[1.0])|     1|(2952,[0,1,3,2944...|\n",
            "|    1706|    1317|  (2938,[0],[1.0])|(12,[6],[1.0])|     1|(2952,[0,1,2,2946...|\n",
            "|    1945|    1900|(2938,[338],[1.0])|(12,[4],[1.0])|     0|(2952,[0,1,340,29...|\n",
            "|    1773|    1809| (2938,[91],[1.0])|(12,[4],[1.0])|     0|(2952,[0,1,93,294...|\n",
            "|    1895|    1886|(2938,[207],[1.0])|(12,[4],[1.0])|     0|(2952,[0,1,209,29...|\n",
            "|    2155|    2356| (2938,[95],[1.0])|(12,[4],[1.0])|     1|(2952,[0,1,97,294...|\n",
            "|    2010|    2111| (2938,[15],[1.0])|(12,[4],[1.0])|     0|(2952,[0,1,17,294...|\n",
            "|    1764|    1773|  (2938,[1],[1.0])|(12,[4],[1.0])|     1|(2952,[0,1,3,2944...|\n",
            "|    1649|    1638|(2938,[514],[1.0])|(12,[1],[1.0])|     0|(2952,[0,1,516,29...|\n",
            "|    1630|    1500| (2938,[10],[1.0])|(12,[1],[1.0])|     1|(2952,[0,1,12,294...|\n",
            "|    1833|    1837|(2938,[489],[1.0])|(12,[4],[1.0])|     1|(2952,[0,1,491,29...|\n",
            "|    2020|    1979| (2938,[49],[1.0])|(12,[4],[1.0])|     1|(2952,[0,1,51,294...|\n",
            "|    1581|    1616|  (2938,[1],[1.0])|(12,[4],[1.0])|     0|(2952,[0,1,3,2944...|\n",
            "|    1879|    1868| (2938,[39],[1.0])|(12,[4],[1.0])|     0|(2952,[0,1,41,294...|\n",
            "|    1963|    1979|(2938,[207],[1.0])|(12,[4],[1.0])|     1|(2952,[0,1,209,29...|\n",
            "|    1751|    1712| (2938,[38],[1.0])|(12,[4],[1.0])|     1|(2952,[0,1,40,294...|\n",
            "|    1795|    1800|(2938,[299],[1.0])|(12,[4],[1.0])|     0|(2952,[0,1,301,29...|\n",
            "|    1913|    1925|(2938,[543],[1.0])|(12,[4],[1.0])|     1|(2952,[0,1,545,29...|\n",
            "+--------+--------+------------------+--------------+------+--------------------+\n",
            "only showing top 20 rows\n",
            "\n"
          ]
        }
      ]
    },
    {
      "cell_type": "markdown",
      "source": [
        "### Dividimos el dataset en train y test"
      ],
      "metadata": {
        "id": "Zym610JbWX4K"
      }
    },
    {
      "cell_type": "code",
      "source": [
        "train_data, test_data = df_model.randomSplit([0.8, 0.2])"
      ],
      "metadata": {
        "id": "L3TdMKnp_6Cb"
      },
      "execution_count": null,
      "outputs": []
    },
    {
      "cell_type": "markdown",
      "source": [
        "## Modelo\n"
      ],
      "metadata": {
        "id": "UcUT1UYaYeuU"
      }
    },
    {
      "cell_type": "markdown",
      "source": [
        "En este caso vamos a preparar un modelo de regressión logistica para resolver el problema de clasificación binaria."
      ],
      "metadata": {
        "id": "Ew2v4rE5ZHKf"
      }
    },
    {
      "cell_type": "markdown",
      "source": [
        "### Logistic regression model"
      ],
      "metadata": {
        "id": "g1TlV05fLKLf"
      }
    },
    {
      "cell_type": "code",
      "source": [
        "from pyspark.ml.classification import LogisticRegression\n",
        "lr = LogisticRegression(featuresCol = 'Independent Features', labelCol = 'Result')\n",
        "lrModel = lr.fit(train_data)"
      ],
      "metadata": {
        "id": "7wAOJyt3K_NR"
      },
      "execution_count": null,
      "outputs": []
    },
    {
      "cell_type": "code",
      "source": [
        "results = lrModel.transform(test_data)\n",
        "# Showing the results\n",
        "results.show()"
      ],
      "metadata": {
        "colab": {
          "base_uri": "https://localhost:8080/"
        },
        "id": "fTweDrFYLJE4",
        "outputId": "1b347200-df17-4001-eaf2-5950db9586b0"
      },
      "execution_count": null,
      "outputs": [
        {
          "output_type": "stream",
          "name": "stdout",
          "text": [
            "+--------+--------+------------------+--------------+------+--------------------+--------------------+--------------------+----------+\n",
            "|WhiteElo|BlackElo|     OpeningOneHot|GameTypeOneHot|Result|Independent Features|       rawPrediction|         probability|prediction|\n",
            "+--------+--------+------------------+--------------+------+--------------------+--------------------+--------------------+----------+\n",
            "|     799|    1250| (2938,[50],[1.0])|(12,[0],[1.0])|     1|(2952,[0,1,52,294...|[1.65481429251155...|[0.83954065470821...|       0.0|\n",
            "|     864|    1223|(2938,[279],[1.0])|(12,[0],[1.0])|     0|(2952,[0,1,281,29...|[1.33190051165478...|[0.79115482793485...|       0.0|\n",
            "|     878|    1370| (2938,[41],[1.0])|(12,[1],[1.0])|     0|(2952,[0,1,43,294...|[1.79121317880432...|[0.85707595138601...|       0.0|\n",
            "|     881|    1351| (2938,[10],[1.0])|(12,[2],[1.0])|     0|(2952,[0,1,12,294...|[1.58931804096527...|[0.83052013457472...|       0.0|\n",
            "|     887|    1250| (2938,[42],[1.0])|(12,[0],[1.0])|     1|(2952,[0,1,44,294...|[1.14099513644600...|[0.75786230039870...|       0.0|\n",
            "|     890|    1059|(2938,[218],[1.0])|(12,[1],[1.0])|     1|(2952,[0,1,220,29...|[0.50206654764455...|[0.62294485452653...|       0.0|\n",
            "|     892|    1004|(2938,[116],[1.0])|(12,[0],[1.0])|     0|(2952,[0,1,118,29...|[-3.0630537235580...|[0.04465724082299...|       1.0|\n",
            "|     903|    1116|(2938,[987],[1.0])|(12,[0],[1.0])|     1|(2952,[0,1,989,29...|[0.87610981039563...|[0.70601543012149...|       0.0|\n",
            "|     907|    1256| (2938,[84],[1.0])|(12,[2],[1.0])|     1|(2952,[0,1,86,294...|[1.30772153055606...|[0.78713163572766...|       0.0|\n",
            "|     910|    1773| (2938,[78],[1.0])|(12,[0],[1.0])|     0|(2952,[0,1,80,294...|[3.27623123400037...|[0.96360433986291...|       0.0|\n",
            "|     911|    1074|  (2938,[7],[1.0])|(12,[1],[1.0])|     1|(2952,[0,1,9,2941...|[0.64968990167092...|[0.65694057932176...|       0.0|\n",
            "|     917|     999| (2938,[31],[1.0])|(12,[0],[1.0])|     0|(2952,[0,1,33,294...|[0.25411861951085...|[0.56318997255742...|       0.0|\n",
            "|     925|    1238|(2938,[101],[1.0])|(12,[1],[1.0])|     0|(2952,[0,1,103,29...|[0.70936487602193...|[0.67026080544158...|       0.0|\n",
            "|     927|     786|(2938,[711],[1.0])|(12,[2],[1.0])|     1|(2952,[0,1,713,29...|[-0.2139018545335...|[0.44672750081882...|       1.0|\n",
            "|     938|    1171|(2938,[183],[1.0])|(12,[0],[1.0])|     0|(2952,[0,1,185,29...|[0.86699948488829...|[0.70412096988824...|       0.0|\n",
            "|     942|    1220|(2938,[264],[1.0])|(12,[2],[1.0])|     0|(2952,[0,1,266,29...|[0.77543860451802...|[0.68469619714480...|       0.0|\n",
            "|     953|    1002|  (2938,[0],[1.0])|(12,[0],[1.0])|     1|(2952,[0,1,2,2940...|[0.25142511340497...|[0.56252723872879...|       0.0|\n",
            "|     957|    1106|(2938,[317],[1.0])|(12,[0],[1.0])|     0|(2952,[0,1,319,29...|[0.55644230171835...|[0.63562895860287...|       0.0|\n",
            "|     961|     838|(2938,[151],[1.0])|(12,[2],[1.0])|     0|(2952,[0,1,153,29...|[-0.3991734954994...|[0.40151093266227...|       1.0|\n",
            "|     961|     973| (2938,[31],[1.0])|(12,[0],[1.0])|     0|(2952,[0,1,33,294...|[-0.0096038961972...|[0.49759904440497...|       1.0|\n",
            "+--------+--------+------------------+--------------+------+--------------------+--------------------+--------------------+----------+\n",
            "only showing top 20 rows\n",
            "\n"
          ]
        }
      ]
    },
    {
      "cell_type": "markdown",
      "source": [
        "## Resultados\n"
      ],
      "metadata": {
        "id": "direJiVIk4RT"
      }
    },
    {
      "cell_type": "code",
      "source": [
        "from pyspark.ml.evaluation import BinaryClassificationEvaluator\n",
        "\n",
        "# Calling the evaluator\n",
        "res = BinaryClassificationEvaluator(rawPredictionCol='prediction',labelCol='Result')\n",
        "\n",
        "# Evaluating the AUC on results\n",
        "ROC_AUC = res.evaluate(results)"
      ],
      "metadata": {
        "id": "z4cA4m5XMcAK"
      },
      "execution_count": null,
      "outputs": []
    },
    {
      "cell_type": "code",
      "source": [
        "print(\"Accuracy:\", ROC_AUC)"
      ],
      "metadata": {
        "colab": {
          "base_uri": "https://localhost:8080/"
        },
        "id": "cAX9LwfVNRM4",
        "outputId": "227ccbd1-3998-4c8f-c5f4-b869a3303c45"
      },
      "execution_count": null,
      "outputs": [
        {
          "output_type": "stream",
          "name": "stdout",
          "text": [
            "Accuracy: 0.6550754182814911\n"
          ]
        }
      ]
    },
    {
      "cell_type": "markdown",
      "source": [
        "Nos encontramos con un accuarcy de 0.65 lo que es un gran resultado."
      ],
      "metadata": {
        "id": "e2vn-lvRniaV"
      }
    }
  ]
}